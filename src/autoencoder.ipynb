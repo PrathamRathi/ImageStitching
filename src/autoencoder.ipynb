{
 "cells": [
  {
   "cell_type": "code",
   "execution_count": 38,
   "metadata": {},
   "outputs": [],
   "source": [
    "import tensorflow as tf\n",
    "import keras\n",
    "from keras.layers import Conv2D, Conv2DTranspose\n",
    "import os\n",
    "import cv2\n",
    "import numpy as np"
   ]
  },
  {
   "cell_type": "code",
   "execution_count": 39,
   "metadata": {},
   "outputs": [],
   "source": [
    "conv_kwargs = {\n",
    "    \"padding\"             : \"SAME\",\n",
    "    \"activation\"          : keras.layers.LeakyReLU(alpha=0.2),\n",
    "    \"kernel_initializer\"  : tf.random_normal_initializer(stddev=.1)\n",
    "}"
   ]
  },
  {
   "cell_type": "code",
   "execution_count": 40,
   "metadata": {},
   "outputs": [],
   "source": [
    "class Autoencoder(tf.keras.Model):\n",
    "    def __init__(self, **kwargs):\n",
    "        super().__init__(**kwargs)\n",
    "        self.encoder = keras.Sequential([\n",
    "             Conv2D(16, 8, 2, **conv_kwargs),\n",
    "            Conv2D(16, 8, 2, **conv_kwargs),\n",
    "            keras.layers.MaxPooling2D(),\n",
    "            Conv2D(64, 4, 1, **conv_kwargs),\n",
    "        ], name=\"ae_encoder\")\n",
    "\n",
    "        self.decoder = keras.Sequential([\n",
    "        Conv2DTranspose(64, 4, 1, **conv_kwargs),\n",
    "        Conv2DTranspose(16, 8, 2, **conv_kwargs),\n",
    "        Conv2DTranspose(3, 8, 4, padding='same', kernel_initializer=tf.random_normal_initializer(stddev=.1))\n",
    "    ], name='ae_decoder')\n",
    "\n",
    "    def call(self, inputs):\n",
    "        inputs = self.encoder(inputs)\n",
    "        inputs = self.decoder(inputs)\n",
    "        return inputs\n"
   ]
  },
  {
   "cell_type": "code",
   "execution_count": 33,
   "metadata": {},
   "outputs": [],
   "source": [
    "# class Autoencoder(tf.keras.Model):\n",
    "#     def __init__(self, **kwargs):\n",
    "#         super().__init__(**kwargs)\n",
    "#         self.encoder = keras.Sequential([\n",
    "#              Conv2D(16, 8, 2, **conv_kwargs),\n",
    "#             Conv2D(16, 8, 2, **conv_kwargs),\n",
    "#             keras.layers.BatchNormalization(),\n",
    "#             Conv2D(32, 4, 1, **conv_kwargs),\n",
    "#             Conv2D(32, 4, 2, **conv_kwargs),\n",
    "#             keras.layers.BatchNormalization(),\n",
    "#             Conv2D(64, 4, 1, **conv_kwargs),\n",
    "#             Conv2D(64, 2, 1, padding='same', \n",
    "#                    kernel_initializer=tf.random_normal_initializer(stddev=.1))\n",
    "#         ], name=\"ae_encoder\")\n",
    "\n",
    "#         self.decoder = keras.Sequential([\n",
    "#         Conv2DTranspose(64, 4, 1, **conv_kwargs),\n",
    "#         Conv2DTranspose(16, 8, 2, **conv_kwargs),\n",
    "#         Conv2DTranspose(3, 8, 4, padding='same', kernel_initializer=tf.random_normal_initializer(stddev=.1))\n",
    "        \n",
    "#     ], name='ae_decoder')\n",
    "\n",
    "#     def call(self, inputs):\n",
    "#         inputs = self.encoder(inputs)\n",
    "#         inputs = self.decoder(inputs)\n",
    "#         return inputs\n"
   ]
  },
  {
   "cell_type": "code",
   "execution_count": 41,
   "metadata": {},
   "outputs": [],
   "source": [
    "def custom_loss(y_true, y_pred):\n",
    "    mse_loss = keras.losses.MeanSquaredError()\n",
    "    bce_loss = keras.losses.BinaryCrossentropy()\n",
    "    mae_loss = keras.losses.MeanAbsoluteError()\n",
    "    mse = mse_loss(y_true, y_pred)\n",
    "    #bce = bce_loss(y_true, y_pred)\n",
    "    mae = mae_loss(y_true, y_pred)\n",
    "    loss = .3*mse + .7*mae\n",
    "    return loss"
   ]
  },
  {
   "cell_type": "code",
   "execution_count": 42,
   "metadata": {},
   "outputs": [
    {
     "name": "stdout",
     "output_type": "stream",
     "text": [
      "Model: \"autoencoder\"\n",
      "_________________________________________________________________\n",
      " Layer (type)                Output Shape              Param #   \n",
      "=================================================================\n",
      " ae_encoder (Sequential)     (1, 32, 32, 64)           35936     \n",
      "                                                                 \n",
      " ae_decoder (Sequential)     (1, 256, 256, 3)          134227    \n",
      "                                                                 \n",
      "=================================================================\n",
      "Total params: 170163 (664.70 KB)\n",
      "Trainable params: 170163 (664.70 KB)\n",
      "Non-trainable params: 0 (0.00 Byte)\n",
      "_________________________________________________________________\n",
      "Model: \"ae_encoder\"\n",
      "_________________________________________________________________\n",
      " Layer (type)                Output Shape              Param #   \n",
      "=================================================================\n",
      " conv2d_33 (Conv2D)          (1, 128, 128, 16)         3088      \n",
      "                                                                 \n",
      " conv2d_34 (Conv2D)          (1, 64, 64, 16)           16400     \n",
      "                                                                 \n",
      " max_pooling2d_6 (MaxPoolin  (1, 32, 32, 16)           0         \n",
      " g2D)                                                            \n",
      "                                                                 \n",
      " conv2d_35 (Conv2D)          (1, 32, 32, 64)           16448     \n",
      "                                                                 \n",
      "=================================================================\n",
      "Total params: 35936 (140.38 KB)\n",
      "Trainable params: 35936 (140.38 KB)\n",
      "Non-trainable params: 0 (0.00 Byte)\n",
      "_________________________________________________________________\n",
      "Model: \"ae_decoder\"\n",
      "_________________________________________________________________\n",
      " Layer (type)                Output Shape              Param #   \n",
      "=================================================================\n",
      " conv2d_transpose_25 (Conv2  (1, 32, 32, 64)           65600     \n",
      " DTranspose)                                                     \n",
      "                                                                 \n",
      " conv2d_transpose_26 (Conv2  (1, 64, 64, 16)           65552     \n",
      " DTranspose)                                                     \n",
      "                                                                 \n",
      " conv2d_transpose_27 (Conv2  (1, 256, 256, 3)          3075      \n",
      " DTranspose)                                                     \n",
      "                                                                 \n",
      "=================================================================\n",
      "Total params: 134227 (524.32 KB)\n",
      "Trainable params: 134227 (524.32 KB)\n",
      "Non-trainable params: 0 (0.00 Byte)\n",
      "_________________________________________________________________\n"
     ]
    }
   ],
   "source": [
    "ae_model = Autoencoder(name='autoencoder')\n",
    "\n",
    "ae_model.build(input_shape = (1,256,256,3))   ## Required to see architecture summary\n",
    "initial_weights = ae_model.get_weights() ## Just so we can reset out autoencoder\n",
    "\n",
    "ae_model.summary()\n",
    "ae_model.encoder.summary()\n",
    "ae_model.decoder.summary()\n",
    "\n",
    "ae_model.compile(\n",
    "    optimizer   = keras.optimizers.legacy.Adam(learning_rate=0.001),\n",
    "    loss        = custom_loss,\n",
    "    metrics     = [\n",
    "        tf.keras.metrics.MeanSquaredError(),\n",
    "        #tf.keras.metrics.BinaryCrossentropy()\n",
    "        tf.keras.metrics.MeanAbsoluteError()\n",
    "    ]\n",
    ")"
   ]
  },
  {
   "cell_type": "code",
   "execution_count": 43,
   "metadata": {},
   "outputs": [],
   "source": [
    "import sys\n",
    "\n",
    "isColab = \"google.colab\" in sys.modules\n",
    "data_dir = '../collapsed_data'\n",
    "# this also works:\n",
    "# isColab = \"COLAB_GPU\" in os.environ\n",
    "\n",
    "if isColab:\n",
    "    from google.colab import drive\n",
    "    drive.mount(\"/content/drive\", force_remount=True)\n",
    "\n",
    "    data_dir = (\"/content/drive/MyDrive/collapsed_data\")"
   ]
  },
  {
   "cell_type": "code",
   "execution_count": 10,
   "metadata": {},
   "outputs": [],
   "source": [
    "def get_data(sub_dir, size=(256,256)):\n",
    "    dir = os.path.join(data_dir, sub_dir)\n",
    "    files = os.listdir(dir)\n",
    "    x = []\n",
    "    y = []\n",
    "    for f in files:\n",
    "        path = os.path.join(dir, f)\n",
    "        try:\n",
    "            img = cv2.imread(path)\n",
    "            img = cv2.resize(img, size)\n",
    "            y.append(img)\n",
    "        except:\n",
    "            print(path)\n",
    "            continue\n",
    "    y = np.array(y, dtype=np.float32)\n",
    "    x = np.copy(y)\n",
    "    h,w = size\n",
    "    rec_w = w//5\n",
    "    # Make middle black\n",
    "    x[:,:,rec_w*2:rec_w*3,:]=0\n",
    "    y=y/255\n",
    "    x = x/255\n",
    "    print(x.shape)\n",
    "    print(y.shape)\n",
    "    print('done')\n",
    "    return x,y\n"
   ]
  },
  {
   "cell_type": "code",
   "execution_count": 26,
   "metadata": {},
   "outputs": [
    {
     "name": "stdout",
     "output_type": "stream",
     "text": [
      "../collapsed_data/train/Glacier-Train (558).jpeg\n"
     ]
    }
   ],
   "source": [
    "x_train,y_train = get_data('train')\n",
    "x_valid,y_valid = get_data('validation')"
   ]
  },
  {
   "cell_type": "code",
   "execution_count": null,
   "metadata": {},
   "outputs": [],
   "source": [
    "# Train the model\n",
    "print('Fitting model')\n",
    "ae_model.fit(x_train, y_train, epochs=10, batch_size=100, validation_data=(x_valid,y_valid))\n",
    "#ae_model.fit(x_train, y_train, epochs=5, batch_size=64)\n",
    "print('------------------------')"
   ]
  },
  {
   "cell_type": "code",
   "execution_count": null,
   "metadata": {},
   "outputs": [],
   "source": [
    "ae_model.save('model.keras')"
   ]
  },
  {
   "cell_type": "code",
   "execution_count": 44,
   "metadata": {},
   "outputs": [
    {
     "name": "stderr",
     "output_type": "stream",
     "text": [
      "/Users/pratham/anaconda3/lib/python3.11/site-packages/keras/src/initializers/__init__.py:144: UserWarning: The `keras.initializers.serialize()` API should only be used for objects of type `keras.initializers.Initializer`. Found an instance of type <class 'tensorflow.python.ops.init_ops_v2.RandomNormal'>, which may lead to improper serialization.\n",
      "  warnings.warn(\n"
     ]
    }
   ],
   "source": [
    "ae_model = keras.models.load_model('../models/MseMaeWeighted.keras',custom_objects={'Autoencoder': Autoencoder,'custom_loss':custom_loss})"
   ]
  },
  {
   "cell_type": "code",
   "execution_count": 45,
   "metadata": {},
   "outputs": [
    {
     "name": "stdout",
     "output_type": "stream",
     "text": [
      "Evaluating model on testing data\n",
      "(500, 256, 256, 3)\n",
      "(500, 256, 256, 3)\n",
      "done\n",
      "16/16 [==============================] - 1s 43ms/step - loss: 0.0524 - mean_squared_error: 0.0106 - mean_absolute_error: 0.0703\n"
     ]
    },
    {
     "data": {
      "text/plain": [
       "[0.052372947335243225, 0.010550432838499546, 0.07029688358306885]"
      ]
     },
     "execution_count": 45,
     "metadata": {},
     "output_type": "execute_result"
    }
   ],
   "source": [
    "print('Evaluating model on testing data')\n",
    "x_test,y_test = get_data('test')\n",
    "ae_model.evaluate(x_test, y_test, batch_size=32)"
   ]
  },
  {
   "cell_type": "code",
   "execution_count": 49,
   "metadata": {},
   "outputs": [
    {
     "name": "stdout",
     "output_type": "stream",
     "text": [
      "1/1 [==============================] - 0s 18ms/step\n"
     ]
    },
    {
     "data": {
      "text/plain": [
       "-1"
      ]
     },
     "execution_count": 49,
     "metadata": {},
     "output_type": "execute_result"
    },
    {
     "ename": "",
     "evalue": "",
     "output_type": "error",
     "traceback": [
      "\u001b[1;31mThe Kernel crashed while executing code in the current cell or a previous cell. \n",
      "\u001b[1;31mPlease review the code in the cell(s) to identify a possible cause of the failure. \n",
      "\u001b[1;31mClick <a href='https://aka.ms/vscodeJupyterKernelCrash'>here</a> for more info. \n",
      "\u001b[1;31mView Jupyter <a href='command:jupyter.viewOutput'>log</a> for further details."
     ]
    }
   ],
   "source": [
    "x = x_test[:5]\n",
    "pred = ae_model.predict(x)\n",
    "for i in range(4):\n",
    "    cv2.imshow('im', x[i])\n",
    "    cv2.waitKeyEx()\n",
    "    cv2.imshow('pred', pred[i])\n",
    "    cv2.waitKeyEx()\n",
    "\n",
    "cv2.destroyAllWindows()\n",
    "cv2.waitKey(1)"
   ]
  }
 ],
 "metadata": {
  "kernelspec": {
   "display_name": "base",
   "language": "python",
   "name": "python3"
  },
  "language_info": {
   "codemirror_mode": {
    "name": "ipython",
    "version": 3
   },
   "file_extension": ".py",
   "mimetype": "text/x-python",
   "name": "python",
   "nbconvert_exporter": "python",
   "pygments_lexer": "ipython3",
   "version": "3.11.4"
  }
 },
 "nbformat": 4,
 "nbformat_minor": 2
}
