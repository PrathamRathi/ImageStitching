{
 "cells": [
  {
   "cell_type": "code",
   "execution_count": null,
   "metadata": {},
   "outputs": [],
   "source": [
    "import tensorflow as tf\n",
    "import keras\n",
    "from keras.layers import Conv2D, Conv2DTranspose\n",
    "from imageViz import ImageVisualizer\n",
    "from preprocess import get_data"
   ]
  },
  {
   "cell_type": "code",
   "execution_count": null,
   "metadata": {},
   "outputs": [],
   "source": [
    "conv_kwargs = {\n",
    "    \"padding\"             : \"SAME\",\n",
    "    \"activation\"          : keras.layers.LeakyReLU(alpha=0.2),\n",
    "    \"kernel_initializer\"  : tf.random_normal_initializer(stddev=.1)\n",
    "}"
   ]
  },
  {
   "cell_type": "code",
   "execution_count": null,
   "metadata": {},
   "outputs": [],
   "source": [
    "class Autoencoder(tf.keras.Model):\n",
    "    def __init__(self, **kwargs):\n",
    "        super().__init__(**kwargs)\n",
    "        self.encoder = keras.Sequential([\n",
    "             Conv2D(8, 8, 4, **conv_kwargs),\n",
    "            Conv2D(8, 8, 2, **conv_kwargs)\n",
    "        ], name=\"ae_encoder\")\n",
    "\n",
    "        self.decoder = keras.Sequential([\n",
    "        Conv2DTranspose(8, 8, 2, **conv_kwargs),\n",
    "        Conv2DTranspose(3, 8, 4, **conv_kwargs)\n",
    "    ], name='ae_decoder')\n",
    "\n",
    "    def call(self, inputs):\n",
    "        inputs = self.encoder(inputs)\n",
    "        inputs = self.decoder(inputs)\n",
    "        return inputs"
   ]
  },
  {
   "cell_type": "code",
   "execution_count": null,
   "metadata": {},
   "outputs": [],
   "source": [
    "def mse_bce_loss(*args, **kwargs):\n",
    "    mse_loss = keras.losses.MeanSquaredError()     ## HINTS\n",
    "    bce_loss = keras.losses.BinaryCrossentropy()\n",
    "    mse = mse_loss(*args, **kwargs)\n",
    "    bce = bce_loss(*args, **kwargs)\n",
    "    return .8 * mse + .2 * bce"
   ]
  },
  {
   "cell_type": "code",
   "execution_count": null,
   "metadata": {},
   "outputs": [],
   "source": [
    "ae_model = Autoencoder(name='autoencoder')\n",
    "\n",
    "ae_model.build(input_shape = (1,256,256,3))   ## Required to see architecture summary\n",
    "initial_weights = ae_model.get_weights() ## Just so we can reset out autoencoder\n",
    "\n",
    "ae_model.summary()\n",
    "ae_model.encoder.summary()\n",
    "ae_model.decoder.summary()\n",
    "\n",
    "ae_model.compile(\n",
    "    optimizer   = keras.optimizers.legacy.Adam(learning_rate=0.001),\n",
    "    loss        = mse_bce_loss,\n",
    "    metrics     = [\n",
    "        tf.keras.metrics.MeanSquaredError(),\n",
    "        tf.keras.metrics.BinaryCrossentropy()\n",
    "    ]\n",
    ")\n",
    "\n",
    "x_train,y_train = get_data('train')\n",
    "x_valid,y_valid = get_data('valid')\n",
    "x_test,y_test = get_data('test')"
   ]
  },
  {
   "cell_type": "code",
   "execution_count": null,
   "metadata": {},
   "outputs": [],
   "source": [
    "# Train the model\n",
    "ae_model.fit(x_train, y_train, epochs=5, batch_size=64, validation_data=(x_valid,y_valid))"
   ]
  }
 ],
 "metadata": {
  "kernelspec": {
   "display_name": "base",
   "language": "python",
   "name": "python3"
  },
  "language_info": {
   "name": "python",
   "version": "3.11.4"
  }
 },
 "nbformat": 4,
 "nbformat_minor": 2
}
