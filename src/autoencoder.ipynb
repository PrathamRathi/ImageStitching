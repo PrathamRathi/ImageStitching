{
 "cells": [
  {
   "cell_type": "code",
   "execution_count": 1,
   "metadata": {},
   "outputs": [],
   "source": [
    "import tensorflow as tf\n",
    "import keras\n",
    "from keras.layers import Conv2D, Conv2DTranspose\n",
    "from imageViz import ImageVisualizer\n",
    "import os\n",
    "import cv2 as cv\n",
    "import numpy as np"
   ]
  },
  {
   "cell_type": "code",
   "execution_count": 2,
   "metadata": {},
   "outputs": [],
   "source": [
    "conv_kwargs = {\n",
    "    \"padding\"             : \"SAME\",\n",
    "    \"activation\"          : keras.layers.LeakyReLU(alpha=0.2),\n",
    "    \"kernel_initializer\"  : tf.random_normal_initializer(stddev=.1)\n",
    "}"
   ]
  },
  {
   "cell_type": "code",
   "execution_count": 3,
   "metadata": {},
   "outputs": [],
   "source": [
    "class Autoencoder(tf.keras.Model):\n",
    "    def __init__(self, **kwargs):\n",
    "        super().__init__(**kwargs)\n",
    "        self.encoder = keras.Sequential([\n",
    "             Conv2D(16, 8, 4, **conv_kwargs),\n",
    "            Conv2D(16, 8, 4, **conv_kwargs),\n",
    "            keras.layers.MaxPooling2D(),\n",
    "            Conv2D(8, 4, 1, **conv_kwargs),\n",
    "        ], name=\"ae_encoder\")\n",
    "\n",
    "        self.decoder = keras.Sequential([\n",
    "        Conv2DTranspose(8, 4, 1, **conv_kwargs),\n",
    "        Conv2DTranspose(16, 8, 4, **conv_kwargs),\n",
    "        Conv2DTranspose(3, 8, 8, padding='same', kernel_initializer=tf.random_normal_initializer(stddev=.1))\n",
    "    ], name='ae_decoder')\n",
    "\n",
    "    def call(self, inputs):\n",
    "        inputs = self.encoder(inputs)\n",
    "        inputs = self.decoder(inputs)\n",
    "        return inputs\n"
   ]
  },
  {
   "cell_type": "code",
   "execution_count": 4,
   "metadata": {},
   "outputs": [],
   "source": [
    "def mse_bce_loss(y_true, y_pred):\n",
    "    mse_loss = keras.losses.MeanSquaredError()     ## HINTS\n",
    "    bce_loss = keras.losses.BinaryCrossentropy()\n",
    "    mse = mse_loss(y_true, y_pred)\n",
    "    bce = bce_loss(y_true, y_pred)\n",
    "    return .8 * mse + .2 * bce"
   ]
  },
  {
   "cell_type": "code",
   "execution_count": 5,
   "metadata": {},
   "outputs": [
    {
     "name": "stdout",
     "output_type": "stream",
     "text": [
      "Model: \"autoencoder\"\n",
      "_________________________________________________________________\n",
      " Layer (type)                Output Shape              Param #   \n",
      "=================================================================\n",
      " ae_encoder (Sequential)     (1, 8, 8, 8)              21544     \n",
      "                                                                 \n",
      " ae_decoder (Sequential)     (1, 256, 256, 3)          12315     \n",
      "                                                                 \n",
      "=================================================================\n",
      "Total params: 33859 (132.26 KB)\n",
      "Trainable params: 33859 (132.26 KB)\n",
      "Non-trainable params: 0 (0.00 Byte)\n",
      "_________________________________________________________________\n",
      "Model: \"ae_encoder\"\n",
      "_________________________________________________________________\n",
      " Layer (type)                Output Shape              Param #   \n",
      "=================================================================\n",
      " conv2d (Conv2D)             (1, 64, 64, 16)           3088      \n",
      "                                                                 \n",
      " conv2d_1 (Conv2D)           (1, 16, 16, 16)           16400     \n",
      "                                                                 \n",
      " max_pooling2d (MaxPooling2  (1, 8, 8, 16)             0         \n",
      " D)                                                              \n",
      "                                                                 \n",
      " conv2d_2 (Conv2D)           (1, 8, 8, 8)              2056      \n",
      "                                                                 \n",
      "=================================================================\n",
      "Total params: 21544 (84.16 KB)\n",
      "Trainable params: 21544 (84.16 KB)\n",
      "Non-trainable params: 0 (0.00 Byte)\n",
      "_________________________________________________________________\n",
      "Model: \"ae_decoder\"\n",
      "_________________________________________________________________\n",
      " Layer (type)                Output Shape              Param #   \n",
      "=================================================================\n",
      " conv2d_transpose (Conv2DTr  (1, 8, 8, 8)              1032      \n",
      " anspose)                                                        \n",
      "                                                                 \n",
      " conv2d_transpose_1 (Conv2D  (1, 32, 32, 16)           8208      \n",
      " Transpose)                                                      \n",
      "                                                                 \n",
      " conv2d_transpose_2 (Conv2D  (1, 256, 256, 3)          3075      \n",
      " Transpose)                                                      \n",
      "                                                                 \n",
      "=================================================================\n",
      "Total params: 12315 (48.11 KB)\n",
      "Trainable params: 12315 (48.11 KB)\n",
      "Non-trainable params: 0 (0.00 Byte)\n",
      "_________________________________________________________________\n"
     ]
    },
    {
     "name": "stderr",
     "output_type": "stream",
     "text": [
      "2024-04-23 16:30:57.333333: I metal_plugin/src/device/metal_device.cc:1154] Metal device set to: Apple M2\n",
      "2024-04-23 16:30:57.333365: I metal_plugin/src/device/metal_device.cc:296] systemMemory: 16.00 GB\n",
      "2024-04-23 16:30:57.333371: I metal_plugin/src/device/metal_device.cc:313] maxCacheSize: 5.33 GB\n",
      "2024-04-23 16:30:57.333428: I tensorflow/core/common_runtime/pluggable_device/pluggable_device_factory.cc:306] Could not identify NUMA node of platform GPU ID 0, defaulting to 0. Your kernel may not have been built with NUMA support.\n",
      "2024-04-23 16:30:57.333460: I tensorflow/core/common_runtime/pluggable_device/pluggable_device_factory.cc:272] Created TensorFlow device (/job:localhost/replica:0/task:0/device:GPU:0 with 0 MB memory) -> physical PluggableDevice (device: 0, name: METAL, pci bus id: <undefined>)\n"
     ]
    }
   ],
   "source": [
    "ae_model = Autoencoder(name='autoencoder')\n",
    "\n",
    "ae_model.build(input_shape = (1,256,256,3))   ## Required to see architecture summary\n",
    "initial_weights = ae_model.get_weights() ## Just so we can reset out autoencoder\n",
    "\n",
    "ae_model.summary()\n",
    "ae_model.encoder.summary()\n",
    "ae_model.decoder.summary()\n",
    "\n",
    "ae_model.compile(\n",
    "    optimizer   = keras.optimizers.legacy.Adam(learning_rate=0.001),\n",
    "    loss        = mse_bce_loss,\n",
    "    metrics     = [\n",
    "        tf.keras.metrics.MeanSquaredError(),\n",
    "        tf.keras.metrics.BinaryCrossentropy()\n",
    "    ]\n",
    ")"
   ]
  },
  {
   "cell_type": "code",
   "execution_count": 6,
   "metadata": {},
   "outputs": [],
   "source": [
    "data_dir = '../collapsed_data'\n",
    "def get_data(sub_dir, size=(256,256)):\n",
    "    dir = os.path.join(data_dir, sub_dir)\n",
    "    files = os.listdir(dir)\n",
    "    x = []\n",
    "    y = []\n",
    "    for f in files:\n",
    "        path = os.path.join(dir, f)\n",
    "        try:\n",
    "            img = cv.imread(path)\n",
    "            img = cv.resize(img, size)\n",
    "            y.append(img)\n",
    "        except:\n",
    "            print(path)\n",
    "            continue\n",
    "    y = np.array(y, dtype=np.float32)\n",
    "    x = np.copy(y)\n",
    "    h,w = size\n",
    "    rec_w = w//5\n",
    "    # Make middle black\n",
    "    x[:,:,rec_w*2:rec_w*3,:]=0\n",
    "    y=y/255\n",
    "    x = x/255\n",
    "    print('done')\n",
    "    return x,y\n"
   ]
  },
  {
   "cell_type": "code",
   "execution_count": 7,
   "metadata": {},
   "outputs": [
    {
     "name": "stdout",
     "output_type": "stream",
     "text": [
      "done\n",
      "done\n"
     ]
    }
   ],
   "source": [
    "x_train,y_train = get_data('train')# \n",
    "x_valid,y_valid = get_data('validation')"
   ]
  },
  {
   "cell_type": "code",
   "execution_count": 8,
   "metadata": {},
   "outputs": [
    {
     "name": "stdout",
     "output_type": "stream",
     "text": [
      "Fitting model on training data\n",
      "Epoch 1/5\n"
     ]
    },
    {
     "name": "stderr",
     "output_type": "stream",
     "text": [
      "2024-04-23 16:36:47.381824: I tensorflow/core/grappler/optimizers/custom_graph_optimizer_registry.cc:117] Plugin optimizer for device_type GPU is enabled.\n"
     ]
    },
    {
     "name": "stdout",
     "output_type": "stream",
     "text": [
      "157/157 [==============================] - 29s 172ms/step - loss: 0.0000e+00 - mean_squared_error: 0.0000e+00 - binary_crossentropy: 0.0000e+00 - val_loss: 1.1673 - val_mean_squared_error: 0.3100 - val_binary_crossentropy: 4.5964\n",
      "Epoch 2/5\n",
      "157/157 [==============================] - 18s 115ms/step - loss: 0.0000e+00 - mean_squared_error: 0.0000e+00 - binary_crossentropy: 0.0000e+00 - val_loss: 1.1673 - val_mean_squared_error: 0.3100 - val_binary_crossentropy: 4.5964\n",
      "Epoch 3/5\n",
      "157/157 [==============================] - 18s 114ms/step - loss: 0.0000e+00 - mean_squared_error: 0.0000e+00 - binary_crossentropy: 0.0000e+00 - val_loss: 1.1673 - val_mean_squared_error: 0.3100 - val_binary_crossentropy: 4.5964\n",
      "Epoch 4/5\n",
      "157/157 [==============================] - 18s 114ms/step - loss: 0.0000e+00 - mean_squared_error: 0.0000e+00 - binary_crossentropy: 0.0000e+00 - val_loss: 1.1673 - val_mean_squared_error: 0.3100 - val_binary_crossentropy: 4.5964\n",
      "Epoch 5/5\n",
      "157/157 [==============================] - 18s 117ms/step - loss: 0.0000e+00 - mean_squared_error: 0.0000e+00 - binary_crossentropy: 0.0000e+00 - val_loss: 1.1673 - val_mean_squared_error: 0.3100 - val_binary_crossentropy: 4.5964\n",
      "------------------------\n"
     ]
    }
   ],
   "source": [
    "# Train the model\n",
    "print('Fitting model on training data')\n",
    "ae_model.fit(x_train, y_train, epochs=5, batch_size=64, validation_data=(x_valid,y_valid))\n",
    "print('------------------------')"
   ]
  },
  {
   "cell_type": "code",
   "execution_count": 9,
   "metadata": {},
   "outputs": [
    {
     "name": "stdout",
     "output_type": "stream",
     "text": [
      "Evaluating model on testing data\n",
      "done\n",
      "16/16 [==============================] - 1s 34ms/step - loss: 1.2211 - mean_squared_error: 0.3316 - binary_crossentropy: 4.7788\n"
     ]
    },
    {
     "data": {
      "text/plain": [
       "[1.2210679054260254, 0.33163052797317505, 4.778817176818848]"
      ]
     },
     "execution_count": 9,
     "metadata": {},
     "output_type": "execute_result"
    }
   ],
   "source": [
    "print('Evaluating model on testing data')\n",
    "x_test,y_test = get_data('test')\n",
    "ae_model.evaluate(x_test, y_test, batch_size=32)"
   ]
  },
  {
   "cell_type": "code",
   "execution_count": 10,
   "metadata": {},
   "outputs": [
    {
     "name": "stdout",
     "output_type": "stream",
     "text": [
      "1/1 [==============================] - 0s 296ms/step\n"
     ]
    },
    {
     "ename": "IndexError",
     "evalue": "index 5 is out of bounds for axis 0 with size 5",
     "output_type": "error",
     "traceback": [
      "\u001b[0;31m---------------------------------------------------------------------------\u001b[0m",
      "\u001b[0;31mIndexError\u001b[0m                                Traceback (most recent call last)",
      "Cell \u001b[0;32mIn[10], line 4\u001b[0m\n\u001b[1;32m      2\u001b[0m pred \u001b[38;5;241m=\u001b[39m ae_model\u001b[38;5;241m.\u001b[39mpredict(x)\n\u001b[1;32m      3\u001b[0m \u001b[38;5;28;01mfor\u001b[39;00m i \u001b[38;5;129;01min\u001b[39;00m \u001b[38;5;28mrange\u001b[39m(\u001b[38;5;241m10\u001b[39m):\n\u001b[0;32m----> 4\u001b[0m     cv\u001b[38;5;241m.\u001b[39mimshow(\u001b[38;5;124m'\u001b[39m\u001b[38;5;124mim\u001b[39m\u001b[38;5;124m'\u001b[39m, x[i])\n\u001b[1;32m      5\u001b[0m     cv\u001b[38;5;241m.\u001b[39mwaitKeyEx()\n\u001b[1;32m      6\u001b[0m     cv\u001b[38;5;241m.\u001b[39mimshow(\u001b[38;5;124m'\u001b[39m\u001b[38;5;124mpred\u001b[39m\u001b[38;5;124m'\u001b[39m, pred[i])\n",
      "\u001b[0;31mIndexError\u001b[0m: index 5 is out of bounds for axis 0 with size 5"
     ]
    }
   ],
   "source": [
    "x = x_test[:5]\n",
    "pred = ae_model.predict(x)\n",
    "for i in range(5):\n",
    "    cv.imshow('im', x[i])\n",
    "    cv.waitKeyEx()\n",
    "    cv.imshow('pred', pred[i])\n",
    "    cv.waitKeyEx()"
   ]
  }
 ],
 "metadata": {
  "kernelspec": {
   "display_name": "base",
   "language": "python",
   "name": "python3"
  },
  "language_info": {
   "codemirror_mode": {
    "name": "ipython",
    "version": 3
   },
   "file_extension": ".py",
   "mimetype": "text/x-python",
   "name": "python",
   "nbconvert_exporter": "python",
   "pygments_lexer": "ipython3",
   "version": "3.11.4"
  }
 },
 "nbformat": 4,
 "nbformat_minor": 2
}
