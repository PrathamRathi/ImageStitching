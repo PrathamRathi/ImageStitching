{
 "cells": [
  {
   "cell_type": "code",
   "execution_count": 1,
   "metadata": {},
   "outputs": [],
   "source": [
    "import tensorflow as tf\n",
    "import keras\n",
    "from keras.layers import Conv2D, Conv2DTranspose\n",
    "import os\n",
    "import cv2\n",
    "import numpy as np\n",
    "from data_generator import MaskedImageDataGenerator"
   ]
  },
  {
   "cell_type": "code",
   "execution_count": 2,
   "metadata": {},
   "outputs": [],
   "source": [
    "conv_kwargs = {\n",
    "    \"padding\"             : \"SAME\",\n",
    "    \"activation\"          : keras.layers.LeakyReLU(alpha=0.2),\n",
    "    \"kernel_initializer\"  : tf.random_normal_initializer(stddev=.1)\n",
    "}"
   ]
  },
  {
   "cell_type": "code",
   "execution_count": 32,
   "metadata": {},
   "outputs": [],
   "source": [
    "class Autoencoder(tf.keras.Model):\n",
    "    def __init__(self, **kwargs):\n",
    "        super().__init__(**kwargs)\n",
    "        self.encoder = keras.Sequential([\n",
    "            Conv2D(16, 8, 2, **conv_kwargs),\n",
    "            Conv2D(16, 8, 2, **conv_kwargs),\n",
    "            keras.layers.BatchNormalization(),\n",
    "            Conv2D(16, 8, 1, **conv_kwargs),\n",
    "            Conv2D(16, 4, 1, **conv_kwargs),\n",
    "        ], name=\"ae_encoder\")\n",
    "\n",
    "        self.decoder = keras.Sequential([\n",
    "            Conv2DTranspose(32, 4, 1, **conv_kwargs),\n",
    "            Conv2DTranspose(16, 8, 2, **conv_kwargs),\n",
    "            Conv2DTranspose(3, 8, 2, padding='same', kernel_initializer=tf.random_normal_initializer(stddev=.1), activation='sigmoid')\n",
    "        ], name='ae_decoder')\n",
    "\n",
    "\n",
    "    def call(self, inputs):\n",
    "        inputs = self.encoder(inputs)\n",
    "        inputs = self.decoder(inputs)\n",
    "        return inputs\n"
   ]
  },
  {
   "cell_type": "code",
   "execution_count": 13,
   "metadata": {},
   "outputs": [],
   "source": [
    "def custom_loss(y_true, y_pred):\n",
    "    mse_loss = keras.losses.MeanSquaredError()\n",
    "    mae_loss = keras.losses.MeanAbsoluteError()\n",
    "    bce_loss = keras.losses.BinaryCrossentropy()\n",
    "    mse = mse_loss(y_true, y_pred)\n",
    "    mae = mae_loss(y_true, y_pred)\n",
    "    bce = bce_loss(y_true, y_pred)\n",
    "    loss =  .3*mse + .7*mae\n",
    "    #loss = mae\n",
    "    return loss"
   ]
  },
  {
   "cell_type": "code",
   "execution_count": 33,
   "metadata": {},
   "outputs": [
    {
     "name": "stdout",
     "output_type": "stream",
     "text": [
      "Model: \"autoencoder\"\n",
      "_________________________________________________________________\n",
      " Layer (type)                Output Shape              Param #   \n",
      "=================================================================\n",
      " ae_encoder (Sequential)     (1, 64, 64, 16)           40000     \n",
      "                                                                 \n",
      " ae_decoder (Sequential)     (1, 256, 256, 3)          44083     \n",
      "                                                                 \n",
      "=================================================================\n",
      "Total params: 84083 (328.45 KB)\n",
      "Trainable params: 84083 (328.45 KB)\n",
      "Non-trainable params: 0 (0.00 Byte)\n",
      "_________________________________________________________________\n",
      "Model: \"ae_encoder\"\n",
      "_________________________________________________________________\n",
      " Layer (type)                Output Shape              Param #   \n",
      "=================================================================\n",
      " conv2d_48 (Conv2D)          (1, 128, 128, 16)         3088      \n",
      "                                                                 \n",
      " conv2d_49 (Conv2D)          (1, 64, 64, 16)           16400     \n",
      "                                                                 \n",
      " conv2d_50 (Conv2D)          (1, 64, 64, 16)           16400     \n",
      "                                                                 \n",
      " conv2d_51 (Conv2D)          (1, 64, 64, 16)           4112      \n",
      "                                                                 \n",
      "=================================================================\n",
      "Total params: 40000 (156.25 KB)\n",
      "Trainable params: 40000 (156.25 KB)\n",
      "Non-trainable params: 0 (0.00 Byte)\n",
      "_________________________________________________________________\n",
      "Model: \"ae_decoder\"\n",
      "_________________________________________________________________\n",
      " Layer (type)                Output Shape              Param #   \n",
      "=================================================================\n",
      " conv2d_transpose_45 (Conv2  (1, 64, 64, 32)           8224      \n",
      " DTranspose)                                                     \n",
      "                                                                 \n",
      " conv2d_transpose_46 (Conv2  (1, 128, 128, 16)         32784     \n",
      " DTranspose)                                                     \n",
      "                                                                 \n",
      " conv2d_transpose_47 (Conv2  (1, 256, 256, 3)          3075      \n",
      " DTranspose)                                                     \n",
      "                                                                 \n",
      "=================================================================\n",
      "Total params: 44083 (172.20 KB)\n",
      "Trainable params: 44083 (172.20 KB)\n",
      "Non-trainable params: 0 (0.00 Byte)\n",
      "_________________________________________________________________\n"
     ]
    }
   ],
   "source": [
    "ae_model = Autoencoder(name='autoencoder')\n",
    "\n",
    "ae_model.build(input_shape = (1,256,256,3))   ## Required to see architecture summary\n",
    "initial_weights = ae_model.get_weights() ## Just so we can reset out autoencoder\n",
    "\n",
    "ae_model.summary()\n",
    "ae_model.encoder.summary()\n",
    "ae_model.decoder.summary()\n",
    "\n",
    "ae_model.compile(\n",
    "    optimizer   = keras.optimizers.legacy.Adam(learning_rate=0.001),\n",
    "    loss        = custom_loss,\n",
    "    metrics     = [\n",
    "       #tf.keras.metrics.MeanSquaredError(),\n",
    "        tf.keras.metrics.MeanAbsoluteError()\n",
    "    ]\n",
    ")"
   ]
  },
  {
   "cell_type": "code",
   "execution_count": 22,
   "metadata": {},
   "outputs": [],
   "source": [
    "import sys\n",
    "\n",
    "isColab = \"google.colab\" in sys.modules\n",
    "data_dir = '../collapsed_data'\n",
    "# this also works:\n",
    "# isColab = \"COLAB_GPU\" in os.environ\n",
    "\n",
    "if isColab:\n",
    "    from google.colab import drive\n",
    "    drive.mount(\"/content/drive\", force_remount=True)\n",
    "\n",
    "    data_dir = (\"/content/drive/MyDrive/collapsed_data\")"
   ]
  },
  {
   "cell_type": "code",
   "execution_count": null,
   "metadata": {},
   "outputs": [],
   "source": [
    "training_generator = MaskedImageDataGenerator(data_dir + '/train', mask_denom=5, target_size=(256, 256), batch_size=50)\n",
    "validation_generator = MaskedImageDataGenerator(data_dir + '/validation', mask_denom=5, target_size=(256, 256), batch_size=50)"
   ]
  },
  {
   "cell_type": "code",
   "execution_count": null,
   "metadata": {},
   "outputs": [],
   "source": [
    "# Train the model\n",
    "devices = tf.config.list_physical_devices()\n",
    "print(devices)\n",
    "print('Fitting model')\n",
    "with tf.device('/device:GPU:0'):\n",
    "    ae_model.fit(training_generator, epochs=10, validation_data=validation_generator)"
   ]
  },
  {
   "cell_type": "code",
   "execution_count": null,
   "metadata": {},
   "outputs": [],
   "source": [
    "model_name = 'model.keras'\n",
    "MODEL_DIR = '../models/'\n",
    "ae_model.save(MODEL_DIR + model_name)"
   ]
  },
  {
   "cell_type": "code",
   "execution_count": 23,
   "metadata": {},
   "outputs": [],
   "source": [
    "def get_masked_data(sub_dir, mask_denom=5,target_size=(256,256)):\n",
    "    dir = os.path.join(data_dir, sub_dir)\n",
    "    files = os.listdir(dir)\n",
    "    x = []\n",
    "    y = []\n",
    "    for f in files:\n",
    "        path = os.path.join(dir, f)\n",
    "        try:\n",
    "            img = cv2.imread(path)\n",
    "            img = cv2.resize(img, target_size)\n",
    "            y.append(img)\n",
    "        except:\n",
    "            print(path)\n",
    "            continue\n",
    "    y = np.array(y, dtype=np.float32)\n",
    "    x = np.copy(y)\n",
    "    h,w = target_size\n",
    "    sec_w = w//mask_denom\n",
    "    # Make middle black\n",
    "    offset = (mask_denom // 2)\n",
    "    x[:,:,sec_w * offset:sec_w * (offset + 1),:]=0\n",
    "    y=y/255\n",
    "    x = x/255\n",
    "    return x,y\n"
   ]
  },
  {
   "cell_type": "code",
   "execution_count": 25,
   "metadata": {},
   "outputs": [],
   "source": [
    "ae_model = keras.models.load_model('../models/newArch-e5-size256.keras',custom_objects={'Autoencoder': Autoencoder, 'custom_loss': custom_loss})"
   ]
  },
  {
   "cell_type": "code",
   "execution_count": 26,
   "metadata": {},
   "outputs": [
    {
     "name": "stdout",
     "output_type": "stream",
     "text": [
      "Evaluating model on testing data\n",
      "10/10 [==============================] - 1s 110ms/step - loss: 0.0633 - mean_squared_error: 0.0154 - mean_absolute_error: 0.0838\n"
     ]
    },
    {
     "data": {
      "text/plain": [
       "[0.0633048266172409, 0.015408388338983059, 0.08383187651634216]"
      ]
     },
     "execution_count": 26,
     "metadata": {},
     "output_type": "execute_result"
    }
   ],
   "source": [
    "print('Evaluating model on testing data')\n",
    "x_test,y_test = get_masked_data('test')\n",
    "test = MaskedImageDataGenerator(data_dir + '/test', mask_denom=5, target_size=(256, 256), batch_size=50)\n",
    "ae_model.evaluate(test, batch_size=32)"
   ]
  },
  {
   "cell_type": "code",
   "execution_count": 27,
   "metadata": {},
   "outputs": [
    {
     "name": "stdout",
     "output_type": "stream",
     "text": [
      "1/1 [==============================] - 0s 80ms/step\n"
     ]
    },
    {
     "data": {
      "text/plain": [
       "-1"
      ]
     },
     "execution_count": 27,
     "metadata": {},
     "output_type": "execute_result"
    }
   ],
   "source": [
    "x = x_test[:5]\n",
    "y = y_test[:5]\n",
    "pred = ae_model.predict(x)\n",
    "for i in range(4):\n",
    "    cv2.imshow('im', x[i])\n",
    "    cv2.waitKeyEx()\n",
    "    cv2.imshow('truth', y[i])\n",
    "    cv2.waitKeyEx()\n",
    "    cv2.imshow('pred', pred[i])\n",
    "    cv2.waitKeyEx()\n",
    "   \n",
    "cv2.destroyAllWindows()\n",
    "cv2.waitKey(1)"
   ]
  },
  {
   "cell_type": "code",
   "execution_count": 28,
   "metadata": {},
   "outputs": [
    {
     "name": "stdout",
     "output_type": "stream",
     "text": [
      "1/1 [==============================] - 0s 50ms/step\n"
     ]
    }
   ],
   "source": [
    "x = x_test[:5]\n",
    "h,w=(256,256)\n",
    "rec_w = w//5\n",
    "modified = []\n",
    "for i in range(4):\n",
    "    img1 = x[i]\n",
    "    img2 = x[i+1]\n",
    "    new_img = img1.copy()\n",
    "    new_img[:,rec_w*3:rec_w*5,:]=img2[:,rec_w*3:rec_w*5,:]\n",
    "    modified.append(new_img)\n",
    "modified = np.array(modified)\n",
    "preds = ae_model.predict(modified)\n",
    "for i in range(4):\n",
    "    mod_img = modified[i]\n",
    "    cv2.imshow('mod', mod_img)\n",
    "    cv2.waitKeyEx()\n",
    "    cv2.imshow('pred', preds[i])\n",
    "    cv2.waitKeyEx()"
   ]
  }
 ],
 "metadata": {
  "kernelspec": {
   "display_name": "base",
   "language": "python",
   "name": "python3"
  },
  "language_info": {
   "codemirror_mode": {
    "name": "ipython",
    "version": 3
   },
   "file_extension": ".py",
   "mimetype": "text/x-python",
   "name": "python",
   "nbconvert_exporter": "python",
   "pygments_lexer": "ipython3",
   "version": "3.11.4"
  }
 },
 "nbformat": 4,
 "nbformat_minor": 2
}
