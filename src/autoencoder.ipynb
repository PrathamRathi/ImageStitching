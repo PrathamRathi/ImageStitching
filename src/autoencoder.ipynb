{
 "cells": [
  {
   "cell_type": "code",
   "execution_count": null,
   "metadata": {},
   "outputs": [],
   "source": [
    "## ONLY FOR GOOGLE COLAB\n",
    "!pip install tensorflow\n",
    "!pip install keras\n",
    "!pip install opencv-python"
   ]
  },
  {
   "cell_type": "code",
   "execution_count": 31,
   "metadata": {},
   "outputs": [],
   "source": [
    "import tensorflow as tf\n",
    "import keras\n",
    "from keras.layers import Conv2D, Conv2DTranspose\n",
    "import os\n",
    "import cv2 as cv\n",
    "import numpy as np"
   ]
  },
  {
   "cell_type": "code",
   "execution_count": 32,
   "metadata": {},
   "outputs": [],
   "source": [
    "conv_kwargs = {\n",
    "    \"padding\"             : \"SAME\",\n",
    "    \"activation\"          : keras.layers.LeakyReLU(alpha=0.2),\n",
    "    \"kernel_initializer\"  : tf.random_normal_initializer(stddev=.1)\n",
    "}"
   ]
  },
  {
   "cell_type": "code",
   "execution_count": 33,
   "metadata": {},
   "outputs": [],
   "source": [
    "class Autoencoder(tf.keras.Model):\n",
    "    def __init__(self, **kwargs):\n",
    "        super().__init__(**kwargs)\n",
    "        self.encoder = keras.Sequential([\n",
    "             Conv2D(16, 8, 2, **conv_kwargs),\n",
    "            Conv2D(16, 8, 2, **conv_kwargs),\n",
    "            keras.layers.MaxPooling2D(),\n",
    "            Conv2D(64, 4, 1, **conv_kwargs),\n",
    "        ], name=\"ae_encoder\")\n",
    "\n",
    "        self.decoder = keras.Sequential([\n",
    "        Conv2DTranspose(64, 4, 1, **conv_kwargs),\n",
    "        Conv2DTranspose(16, 8, 2, **conv_kwargs),\n",
    "        Conv2DTranspose(3, 8, 4, padding='same', kernel_initializer=tf.random_normal_initializer(stddev=.1))\n",
    "    ], name='ae_decoder')\n",
    "\n",
    "    def call(self, inputs):\n",
    "        inputs = self.encoder(inputs)\n",
    "        inputs = self.decoder(inputs)\n",
    "        return inputs\n"
   ]
  },
  {
   "cell_type": "code",
   "execution_count": 34,
   "metadata": {},
   "outputs": [],
   "source": [
    "def mse_bce_loss(y_true, y_pred):\n",
    "    mse_loss = keras.losses.MeanSquaredError()     \n",
    "    bce_loss = keras.losses.BinaryCrossentropy()\n",
    "    mse = mse_loss(y_true, y_pred)\n",
    "    bce = bce_loss(y_true, y_pred)\n",
    "    loss = mse + bce\n",
    "    return loss"
   ]
  },
  {
   "cell_type": "code",
   "execution_count": 35,
   "metadata": {},
   "outputs": [
    {
     "name": "stdout",
     "output_type": "stream",
     "text": [
      "Model: \"autoencoder\"\n",
      "_________________________________________________________________\n",
      " Layer (type)                Output Shape              Param #   \n",
      "=================================================================\n",
      " ae_encoder (Sequential)     (1, 32, 32, 64)           35936     \n",
      "                                                                 \n",
      " ae_decoder (Sequential)     (1, 256, 256, 3)          134227    \n",
      "                                                                 \n",
      "=================================================================\n",
      "Total params: 170163 (664.70 KB)\n",
      "Trainable params: 170163 (664.70 KB)\n",
      "Non-trainable params: 0 (0.00 Byte)\n",
      "_________________________________________________________________\n",
      "Model: \"ae_encoder\"\n",
      "_________________________________________________________________\n",
      " Layer (type)                Output Shape              Param #   \n",
      "=================================================================\n",
      " conv2d_15 (Conv2D)          (1, 128, 128, 16)         3088      \n",
      "                                                                 \n",
      " conv2d_16 (Conv2D)          (1, 64, 64, 16)           16400     \n",
      "                                                                 \n",
      " max_pooling2d_5 (MaxPoolin  (1, 32, 32, 16)           0         \n",
      " g2D)                                                            \n",
      "                                                                 \n",
      " conv2d_17 (Conv2D)          (1, 32, 32, 64)           16448     \n",
      "                                                                 \n",
      "=================================================================\n",
      "Total params: 35936 (140.38 KB)\n",
      "Trainable params: 35936 (140.38 KB)\n",
      "Non-trainable params: 0 (0.00 Byte)\n",
      "_________________________________________________________________\n",
      "Model: \"ae_decoder\"\n",
      "_________________________________________________________________\n",
      " Layer (type)                Output Shape              Param #   \n",
      "=================================================================\n",
      " conv2d_transpose_15 (Conv2  (1, 32, 32, 64)           65600     \n",
      " DTranspose)                                                     \n",
      "                                                                 \n",
      " conv2d_transpose_16 (Conv2  (1, 64, 64, 16)           65552     \n",
      " DTranspose)                                                     \n",
      "                                                                 \n",
      " conv2d_transpose_17 (Conv2  (1, 256, 256, 3)          3075      \n",
      " DTranspose)                                                     \n",
      "                                                                 \n",
      "=================================================================\n",
      "Total params: 134227 (524.32 KB)\n",
      "Trainable params: 134227 (524.32 KB)\n",
      "Non-trainable params: 0 (0.00 Byte)\n",
      "_________________________________________________________________\n"
     ]
    }
   ],
   "source": [
    "ae_model = Autoencoder(name='autoencoder')\n",
    "\n",
    "ae_model.build(input_shape = (1,256,256,3))   ## Required to see architecture summary\n",
    "initial_weights = ae_model.get_weights() ## Just so we can reset out autoencoder\n",
    "\n",
    "ae_model.summary()\n",
    "ae_model.encoder.summary()\n",
    "ae_model.decoder.summary()\n",
    "\n",
    "ae_model.compile(\n",
    "    optimizer   = keras.optimizers.legacy.Adam(learning_rate=0.001),\n",
    "    loss        = mse_bce_loss,\n",
    "    metrics     = [\n",
    "        tf.keras.metrics.MeanSquaredError(),\n",
    "        tf.keras.metrics.BinaryCrossentropy()\n",
    "    ]\n",
    ")"
   ]
  },
  {
   "cell_type": "code",
   "execution_count": 37,
   "metadata": {},
   "outputs": [],
   "source": [
    "import sys\n",
    "\n",
    "isColab = \"google.colab\" in sys.modules\n",
    "data_dir = '../collapsed_data'\n",
    "# this also works:\n",
    "# isColab = \"COLAB_GPU\" in os.environ\n",
    "\n",
    "if isColab:\n",
    "    from google.colab import drive\n",
    "    drive.mount(\"/content/drive\", force_remount=True)\n",
    "\n",
    "    data_dir = (\"/content/drive/MyDrive/collapsed_data\")"
   ]
  },
  {
   "cell_type": "code",
   "execution_count": 38,
   "metadata": {},
   "outputs": [],
   "source": [
    "def get_data(sub_dir, size=(256,256)):\n",
    "    dir = os.path.join(data_dir, sub_dir)\n",
    "    files = os.listdir(dir)\n",
    "    x = []\n",
    "    y = []\n",
    "    for f in files:\n",
    "        path = os.path.join(dir, f)\n",
    "        try:\n",
    "            img = cv.imread(path)\n",
    "            img = cv.resize(img, size)\n",
    "            y.append(img)\n",
    "        except:\n",
    "            print(path)\n",
    "            continue\n",
    "    y = np.array(y, dtype=np.float32)\n",
    "    y = y[:4000]\n",
    "    x = np.copy(y)\n",
    "    h,w = size\n",
    "    rec_w = w//5\n",
    "    # Make middle black\n",
    "    x[:,:,rec_w*2:rec_w*3,:]=0\n",
    "    y=y/255\n",
    "    x = x/255\n",
    "    # cv.imshow('x',x[21])\n",
    "    # cv.waitKeyEx()\n",
    "    # cv.imshow('y',y[21])\n",
    "    # cv.waitKeyEx()\n",
    "    print(x.shape)\n",
    "    print(y.shape)\n",
    "    print('done')\n",
    "    return x,y\n"
   ]
  },
  {
   "cell_type": "code",
   "execution_count": null,
   "metadata": {},
   "outputs": [],
   "source": [
    "x_train,y_train = get_data('train')\n",
    "x_valid,y_valid = get_data('validation')"
   ]
  },
  {
   "cell_type": "code",
   "execution_count": null,
   "metadata": {},
   "outputs": [],
   "source": [
    "# Train the model\n",
    "print('Fitting model')\n",
    "ae_model.fit(x_train, y_train, epochs=10, batch_size=100, validation_data=(x_valid,y_valid))\n",
    "#ae_model.fit(x_train, y_train, epochs=5, batch_size=64)\n",
    "print('------------------------')"
   ]
  },
  {
   "cell_type": "code",
   "execution_count": null,
   "metadata": {},
   "outputs": [],
   "source": [
    "ae_model.save('models/model.keras')"
   ]
  },
  {
   "cell_type": "code",
   "execution_count": 41,
   "metadata": {},
   "outputs": [
    {
     "name": "stderr",
     "output_type": "stream",
     "text": [
      "/Users/pratham/anaconda3/lib/python3.11/site-packages/keras/src/initializers/__init__.py:144: UserWarning: The `keras.initializers.serialize()` API should only be used for objects of type `keras.initializers.Initializer`. Found an instance of type <class 'tensorflow.python.ops.init_ops_v2.RandomNormal'>, which may lead to improper serialization.\n",
      "  warnings.warn(\n"
     ]
    }
   ],
   "source": [
    "ae_model = keras.models.load_model('../models/model.keras',custom_objects={'Autoencoder': Autoencoder,'mse_bce_loss':mse_bce_loss})"
   ]
  },
  {
   "cell_type": "code",
   "execution_count": 42,
   "metadata": {},
   "outputs": [
    {
     "name": "stdout",
     "output_type": "stream",
     "text": [
      "Evaluating model on testing data\n",
      "(500, 256, 256, 3)\n",
      "(500, 256, 256, 3)\n",
      "done\n",
      "16/16 [==============================] - 1s 47ms/step - loss: 0.5769 - mean_squared_error: 0.0172 - binary_crossentropy: 0.5597\n"
     ]
    },
    {
     "data": {
      "text/plain": [
       "[0.5768592953681946, 0.017202487215399742, 0.5596569180488586]"
      ]
     },
     "execution_count": 42,
     "metadata": {},
     "output_type": "execute_result"
    }
   ],
   "source": [
    "print('Evaluating model on testing data')\n",
    "x_test,y_test = get_data('test')\n",
    "ae_model.evaluate(x_test, y_test, batch_size=32)"
   ]
  },
  {
   "cell_type": "code",
   "execution_count": 44,
   "metadata": {},
   "outputs": [
    {
     "name": "stdout",
     "output_type": "stream",
     "text": [
      "1/1 [==============================] - 0s 44ms/step\n"
     ]
    }
   ],
   "source": [
    "x = x_test[:5]\n",
    "pred = ae_model.predict(x)\n",
    "for i in range(5):\n",
    "    cv.imshow('im', x[i])\n",
    "    cv.waitKeyEx()\n",
    "    cv.imshow('pred', pred[i])\n",
    "    cv.waitKeyEx()"
   ]
  }
 ],
 "metadata": {
  "kernelspec": {
   "display_name": "base",
   "language": "python",
   "name": "python3"
  },
  "language_info": {
   "codemirror_mode": {
    "name": "ipython",
    "version": 3
   },
   "file_extension": ".py",
   "mimetype": "text/x-python",
   "name": "python",
   "nbconvert_exporter": "python",
   "pygments_lexer": "ipython3",
   "version": "3.11.4"
  }
 },
 "nbformat": 4,
 "nbformat_minor": 2
}
